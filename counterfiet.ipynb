{
 "cells": [
  {
   "cell_type": "code",
   "execution_count": 1,
   "id": "731614b9",
   "metadata": {},
   "outputs": [
    {
     "name": "stdout",
     "output_type": "stream",
     "text": [
      "Results for model Perceptron\n",
      "Correct: 538\n",
      "Incorrect: 10\n",
      "Accuracy: 98.18%\n",
      "\n",
      "Results for model SVC\n",
      "Correct: 547\n",
      "Incorrect: 1\n",
      "Accuracy: 99.82%\n",
      "\n",
      "Results for model KNeighborsClassifier\n",
      "Correct: 548\n",
      "Incorrect: 0\n",
      "Accuracy: 100.00%\n",
      "\n",
      "Results for model GaussianNB\n",
      "Correct: 465\n",
      "Incorrect: 83\n",
      "Accuracy: 84.85%\n",
      "\n"
     ]
    }
   ],
   "source": [
    "import csv\n",
    "import random\n",
    "from sklearn import svm\n",
    "from sklearn.linear_model import Perceptron\n",
    "from sklearn.naive_bayes import GaussianNB\n",
    "from sklearn.neighbors import KNeighborsClassifier\n",
    "\n",
    "model1 = Perceptron()\n",
    "model2 = svm.SVC()\n",
    "model3 = KNeighborsClassifier(n_neighbors=1)\n",
    "model4 = GaussianNB()\n",
    "\n",
    "# Reading the data from file\n",
    "with open(\"banknotes.csv\") as f:\n",
    "    reader = csv.reader(f)\n",
    "    next(reader)\n",
    "\n",
    "    data = []\n",
    "    for row in reader:\n",
    "        data.append({\n",
    "            \"evidence\": [float(cell) for cell in row[:4]],\n",
    "            \"label\": \"Authentic\" if row[4] == \"0\" else \"Counterfeit\"\n",
    "        })\n",
    "\n",
    "# Separating the data into training and testing groups\n",
    "holdout = int(0.40 * len(data))\n",
    "random.shuffle(data)\n",
    "testing = data[:holdout]\n",
    "training = data[holdout:]\n",
    "\n",
    "# Training and testing each model\n",
    "for model in [model1, model2, model3, model4]:\n",
    "    # Training the model on training set\n",
    "    X_training = [row[\"evidence\"] for row in training]\n",
    "    y_training = [row[\"label\"] for row in training]\n",
    "    model.fit(X_training, y_training)\n",
    "\n",
    "    # Making predictions on the testing set\n",
    "    X_testing = [row[\"evidence\"] for row in testing]\n",
    "    y_testing = [row[\"label\"] for row in testing]\n",
    "    predictions = model.predict(X_testing)\n",
    "\n",
    "    # Computing how well we performed\n",
    "    correct = sum(1 for actual, predicted in zip(y_testing, predictions) if actual == predicted)\n",
    "    total = len(testing)\n",
    "    incorrect = total - correct\n",
    "\n",
    "    # Print results\n",
    "    print(f\"Results for model {type(model).__name__}\")\n",
    "    print(f\"Correct: {correct}\")\n",
    "    print(f\"Incorrect: {incorrect}\")\n",
    "    print(f\"Accuracy: {100 * correct / total:.2f}%\")\n",
    "    print()\n"
   ]
  },
  {
   "cell_type": "code",
   "execution_count": null,
   "id": "88bbf3dc",
   "metadata": {},
   "outputs": [],
   "source": []
  }
 ],
 "metadata": {
  "kernelspec": {
   "display_name": "Python 3 (ipykernel)",
   "language": "python",
   "name": "python3"
  },
  "language_info": {
   "codemirror_mode": {
    "name": "ipython",
    "version": 3
   },
   "file_extension": ".py",
   "mimetype": "text/x-python",
   "name": "python",
   "nbconvert_exporter": "python",
   "pygments_lexer": "ipython3",
   "version": "3.11.4"
  }
 },
 "nbformat": 4,
 "nbformat_minor": 5
}
